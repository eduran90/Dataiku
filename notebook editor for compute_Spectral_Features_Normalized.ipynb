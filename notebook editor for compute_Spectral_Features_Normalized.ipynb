{
 "cells": [
  {
   "cell_type": "code",
   "execution_count": 0,
   "metadata": {},
   "outputs": [],
   "source": [
    "# -*- coding: utf-8 -*-\n",
    "import dataiku\n",
    "import pandas as pd, numpy as np\n",
    "from dataiku import pandasutils as pdu\n",
    "from scipy import stats\n",
    "\n",
    "# Read recipe inputs\n",
    "spectral_Features = dataiku.Dataset(\"Spectral_Features\")\n",
    "spectral_Features_df = spectral_Features.get_dataframe()\n",
    "\n",
    "# Data Cleansing and Mask Generation\n",
    "Mask = np.array(~np.isnan(spectral_Features_df).any(axis=1))*1 \n",
    "Mask = Mask.reshape(960,1280) # Binary mask (1-keep pixel; 0-discard)\n",
    "spectral_Features_Cleansed = spectral_Features_df[~np.isnan(spectral_Features_df).any(axis=1)] # Remove all rows with NaN\n",
    "\n",
    "\n",
    "# Normalization\n",
    "spectral_Features_Normalized = stats.zscore(spectral_Features_Cleansed, axis=0) # Normalize each feature (column)\n",
    "\n",
    "\n",
    "\n",
    "\n",
    "\n",
    "spectral_Features_Normalized_df = pd.DataFrame(spectral_Features_Normalized) # Compute a Pandas dataframe to write into Spectral_Features_Normalized\n",
    "pixel_Mask_df = pd.DataFrame(Mask) # Compute a Pandas dataframe to write into Pixel_Mask\n",
    "\n",
    "\n",
    "# Write recipe outputs\n",
    "spectral_Features_Normalized = dataiku.Dataset(\"Spectral_Features_Normalized\")\n",
    "spectral_Features_Normalized.write_with_schema(spectral_Features_Normalized_df)\n",
    "pixel_Mask = dataiku.Dataset(\"Pixel_Mask\")\n",
    "pixel_Mask.write_with_schema(pixel_Mask_df)"
   ]
  },
  {
   "cell_type": "code",
   "execution_count": null,
   "metadata": {},
   "outputs": [],
   "source": []
  }
 ],
 "metadata": {
  "associatedRecipe": "compute_Spectral_Features_Normalized",
  "creator": "admin",
  "customFields": {},
  "kernelspec": {
   "display_name": "Python (env eduran)",
   "language": "python",
   "name": "py-dku-venv-eduran"
  },
  "language_info": {
   "codemirror_mode": {
    "name": "ipython",
    "version": 2
   },
   "file_extension": ".py",
   "mimetype": "text/x-python",
   "name": "python",
   "nbconvert_exporter": "python",
   "pygments_lexer": "ipython2",
   "version": "2.7.5"
  },
  "tags": [
   "recipe-editor"
  ]
 },
 "nbformat": 4,
 "nbformat_minor": 1
}
